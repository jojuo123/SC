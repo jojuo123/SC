{
  "nbformat": 4,
  "nbformat_minor": 0,
  "metadata": {
    "colab": {
      "name": "wr227.ipynb",
      "provenance": [],
      "collapsed_sections": [],
      "authorship_tag": "ABX9TyN/WSTZrBhP00C8KSWDyCiL",
      "include_colab_link": true
    },
    "kernelspec": {
      "name": "python3",
      "display_name": "Python 3"
    }
  },
  "cells": [
    {
      "cell_type": "markdown",
      "metadata": {
        "id": "view-in-github",
        "colab_type": "text"
      },
      "source": [
        "<a href=\"https://colab.research.google.com/github/jojuo123/SC/blob/master/wr227.ipynb\" target=\"_parent\"><img src=\"https://colab.research.google.com/assets/colab-badge.svg\" alt=\"Open In Colab\"/></a>"
      ]
    },
    {
      "cell_type": "code",
      "metadata": {
        "id": "wiHtLQW7I8NU",
        "colab_type": "code",
        "outputId": "5c17f323-8f25-4a03-a070-cd47e0eb2b0a",
        "colab": {
          "base_uri": "https://localhost:8080/",
          "height": 68
        }
      },
      "source": [
        "from google_drive_downloader import GoogleDriveDownloader as gdd\n",
        "\n",
        "gdd.download_file_from_google_drive(file_id='1Ty04Qk5Od90CuFtcgdRth6wBF0Aao8Bi',\n",
        "                                    dest_path='./dog-breeds-classification/cc2.zip',\n",
        "                                    unzip=True,\n",
        "                                    showsize=True,\n",
        "                                    overwrite=True)"
      ],
      "execution_count": 0,
      "outputs": [
        {
          "output_type": "stream",
          "text": [
            "Downloading 1Ty04Qk5Od90CuFtcgdRth6wBF0Aao8Bi into ./dog-breeds-classification/cc2.zip... \n",
            "421.8 MiB Done.\n",
            "Unzipping...Done.\n"
          ],
          "name": "stdout"
        }
      ]
    },
    {
      "cell_type": "code",
      "metadata": {
        "id": "n5bXXcGfRTmv",
        "colab_type": "code",
        "outputId": "336629a8-7298-4d64-bd48-c33c34231a04",
        "colab": {
          "base_uri": "https://localhost:8080/",
          "height": 68
        }
      },
      "source": [
        "from google_drive_downloader import GoogleDriveDownloader as gdd\n",
        "\n",
        "gdd.download_file_from_google_drive(file_id='1psc5-W79zza0QLUVKhjqUYcAi4_VPlaV',\n",
        "                                    dest_path='./dog-breeds-classification/data/cc2.zip',\n",
        "                                    unzip=True,\n",
        "                                    showsize=True,\n",
        "                                    overwrite=True)"
      ],
      "execution_count": 0,
      "outputs": [
        {
          "output_type": "stream",
          "text": [
            "Downloading 1psc5-W79zza0QLUVKhjqUYcAi4_VPlaV into ./dog-breeds-classification/data/cc2.zip... \n",
            "474.9 MiB Done.\n",
            "Unzipping...Done.\n"
          ],
          "name": "stdout"
        }
      ]
    },
    {
      "cell_type": "markdown",
      "metadata": {
        "id": "naYgO8sQKRW1",
        "colab_type": "text"
      },
      "source": [
        "trước"
      ]
    },
    {
      "cell_type": "code",
      "metadata": {
        "id": "xtm0fEKHQcXL",
        "colab_type": "code",
        "colab": {}
      },
      "source": [
        "!pip2 install pyprind"
      ],
      "execution_count": 0,
      "outputs": []
    },
    {
      "cell_type": "code",
      "metadata": {
        "id": "nfWzOKDhJMY5",
        "colab_type": "code",
        "colab": {}
      },
      "source": [
        "!pip2 install tensorflow==1.14"
      ],
      "execution_count": 0,
      "outputs": []
    },
    {
      "cell_type": "code",
      "metadata": {
        "id": "DPd2_wGqIJTG",
        "colab_type": "code",
        "colab": {}
      },
      "source": [
        "%cd dog-breeds-classification/"
      ],
      "execution_count": 0,
      "outputs": []
    },
    {
      "cell_type": "code",
      "metadata": {
        "id": "79qPAA7mPErO",
        "colab_type": "code",
        "colab": {}
      },
      "source": [
        "!python2 -m src.training.train"
      ],
      "execution_count": 0,
      "outputs": []
    },
    {
      "cell_type": "code",
      "metadata": {
        "id": "ulsvLrxafgKm",
        "colab_type": "code",
        "outputId": "1245d51c-5021-4b52-e954-c87fa93eb26a",
        "colab": {
          "base_uri": "https://localhost:8080/",
          "height": 870
        }
      },
      "source": [
        "!python2 -m src.freezing.freeze"
      ],
      "execution_count": 0,
      "outputs": [
        {
          "output_type": "stream",
          "text": [
            "WARNING: Logging before flag parsing goes to stderr.\n",
            "W0411 07:40:45.352262 140449893275520 deprecation_wrapper.py:119] From /content/dog-breeds-classification/src/freezing/freeze.py:61: The name tf.Session is deprecated. Please use tf.compat.v1.Session instead.\n",
            "\n",
            "2020-04-11 07:40:45.353078: I tensorflow/core/platform/cpu_feature_guard.cc:142] Your CPU supports instructions that this TensorFlow binary was not compiled to use: AVX2 FMA\n",
            "2020-04-11 07:40:45.356759: I tensorflow/core/platform/profile_utils/cpu_utils.cc:94] CPU Frequency: 2300000000 Hz\n",
            "2020-04-11 07:40:45.357056: I tensorflow/compiler/xla/service/service.cc:168] XLA service 0x55e604b3b800 executing computations on platform Host. Devices:\n",
            "2020-04-11 07:40:45.357089: I tensorflow/compiler/xla/service/service.cc:175]   StreamExecutor device (0): <undefined>, <undefined>\n",
            "W0411 07:40:45.357662 140449893275520 deprecation.py:323] From /content/dog-breeds-classification/src/freezing/freeze.py:49: __init__ (from tensorflow.python.platform.gfile) is deprecated and will be removed in a future version.\n",
            "Instructions for updating:\n",
            "Use tf.gfile.GFile.\n",
            "W0411 07:40:45.357889 140449893275520 deprecation_wrapper.py:119] From /content/dog-breeds-classification/src/freezing/freeze.py:50: The name tf.GraphDef is deprecated. Please use tf.compat.v1.GraphDef instead.\n",
            "\n",
            "2020-04-11 07:40:47.634589: W tensorflow/core/framework/op_def_util.cc:357] Op BatchNormWithGlobalNormalization is deprecated. It will cease to work in GraphDef version 9. Use tf.nn.batch_normalization().\n",
            "W0411 07:40:47.977008 140449893275520 deprecation_wrapper.py:119] From /content/dog-breeds-classification/src/freezing/freeze.py:53: The name tf.get_default_graph is deprecated. Please use tf.compat.v1.get_default_graph instead.\n",
            "\n",
            "W0411 07:40:47.985775 140449893275520 deprecation_wrapper.py:119] From src/models/denseNN.py:16: The name tf.placeholder is deprecated. Please use tf.compat.v1.placeholder instead.\n",
            "\n",
            "W0411 07:40:48.118426 140449893275520 deprecation_wrapper.py:119] From src/models/denseNN.py:25: The name tf.summary.histogram is deprecated. Please use tf.compat.v1.summary.histogram instead.\n",
            "\n",
            "W0411 07:40:48.147109 140449893275520 deprecation.py:323] From src/models/denseNN.py:40: softmax_cross_entropy_with_logits (from tensorflow.python.ops.nn_ops) is deprecated and will be removed in a future version.\n",
            "Instructions for updating:\n",
            "\n",
            "Future major versions of TensorFlow will allow gradients to flow\n",
            "into the labels input on backprop by default.\n",
            "\n",
            "See `tf.nn.softmax_cross_entropy_with_logits_v2`.\n",
            "\n",
            "W0411 07:40:48.168312 140449893275520 deprecation_wrapper.py:119] From src/models/denseNN.py:42: The name tf.summary.scalar is deprecated. Please use tf.compat.v1.summary.scalar instead.\n",
            "\n",
            "W0411 07:40:48.169635 140449893275520 deprecation.py:506] From src/models/denseNN.py:44: calling softmax (from tensorflow.python.ops.nn_ops) with dim is deprecated and will be removed in a future version.\n",
            "Instructions for updating:\n",
            "dim is deprecated, use axis instead\n",
            "W0411 07:40:48.186147 140449893275520 deprecation_wrapper.py:119] From /content/dog-breeds-classification/src/freezing/freeze.py:71: The name tf.global_variables_initializer is deprecated. Please use tf.compat.v1.global_variables_initializer instead.\n",
            "\n",
            "2020-04-11 07:40:48.377104: W tensorflow/compiler/jit/mark_for_compilation_pass.cc:1412] (One-time warning): Not using XLA:CPU for cluster because envvar TF_XLA_FLAGS=--tf_xla_cpu_global_jit was not set.  If you want XLA:CPU, either set that envvar, or use experimental_jit_scope to enable XLA:CPU.  To confirm that XLA is active, pass --vmodule=xla_compilation_cache=1 (as a proper command-line flag, not via TF_XLA_FLAGS) or set the envvar XLA_FLAGS=--xla_hlo_profile.\n",
            "W0411 07:40:48.397788 140449893275520 deprecation_wrapper.py:119] From /content/dog-breeds-classification/src/freezing/freeze.py:73: The name tf.train.Saver is deprecated. Please use tf.compat.v1.train.Saver instead.\n",
            "\n",
            "W0411 07:40:48.409446 140449893275520 deprecation.py:323] From /usr/local/lib/python2.7/dist-packages/tensorflow/python/training/saver.py:1276: checkpoint_exists (from tensorflow.python.training.checkpoint_management) is deprecated and will be removed in a future version.\n",
            "Instructions for updating:\n",
            "Use standard file APIs to check for files with this prefix.\n",
            "W0411 07:40:48.454024 140449893275520 deprecation_wrapper.py:119] From /content/dog-breeds-classification/src/freezing/freeze.py:35: The name tf.train.write_graph is deprecated. Please use tf.io.write_graph instead.\n",
            "\n",
            "W0411 07:40:49.528623 140449893275520 deprecation.py:323] From /usr/local/lib/python2.7/dist-packages/tensorflow/python/tools/freeze_graph.py:233: convert_variables_to_constants (from tensorflow.python.framework.graph_util_impl) is deprecated and will be removed in a future version.\n",
            "Instructions for updating:\n",
            "Use `tf.compat.v1.graph_util.convert_variables_to_constants`\n",
            "W0411 07:40:49.528867 140449893275520 deprecation.py:323] From /usr/local/lib/python2.7/dist-packages/tensorflow/python/framework/graph_util_impl.py:270: extract_sub_graph (from tensorflow.python.framework.graph_util_impl) is deprecated and will be removed in a future version.\n",
            "Instructions for updating:\n",
            "Use `tf.compat.v1.graph_util.extract_sub_graph`\n",
            "Frozen model saved to frozen/TESTING_50.pb\n"
          ],
          "name": "stdout"
        }
      ]
    },
    {
      "cell_type": "code",
      "metadata": {
        "id": "azq6R7ISKJID",
        "colab_type": "code",
        "outputId": "af1dffb2-8d97-470f-cd03-1c9728ff1763",
        "colab": {
          "base_uri": "https://localhost:8080/",
          "height": 921
        }
      },
      "source": [
        "!python2 -m src.analysis.training_perf_analysis"
      ],
      "execution_count": 0,
      "outputs": [
        {
          "output_type": "stream",
          "text": [
            "WARNING: Logging before flag parsing goes to stderr.\n",
            "W0411 07:40:56.878248 140598241474432 deprecation_wrapper.py:119] From /content/dog-breeds-classification/src/analysis/training_perf_analysis.py:63: The name tf.placeholder is deprecated. Please use tf.compat.v1.placeholder instead.\n",
            "\n",
            "W0411 07:40:57.040050 140598241474432 deprecation_wrapper.py:119] From src/models/denseNN.py:25: The name tf.summary.histogram is deprecated. Please use tf.compat.v1.summary.histogram instead.\n",
            "\n",
            "W0411 07:40:57.065979 140598241474432 deprecation.py:323] From src/models/denseNN.py:40: softmax_cross_entropy_with_logits (from tensorflow.python.ops.nn_ops) is deprecated and will be removed in a future version.\n",
            "Instructions for updating:\n",
            "\n",
            "Future major versions of TensorFlow will allow gradients to flow\n",
            "into the labels input on backprop by default.\n",
            "\n",
            "See `tf.nn.softmax_cross_entropy_with_logits_v2`.\n",
            "\n",
            "W0411 07:40:57.085167 140598241474432 deprecation_wrapper.py:119] From src/models/denseNN.py:42: The name tf.summary.scalar is deprecated. Please use tf.compat.v1.summary.scalar instead.\n",
            "\n",
            "W0411 07:40:57.086453 140598241474432 deprecation.py:506] From src/models/denseNN.py:44: calling softmax (from tensorflow.python.ops.nn_ops) with dim is deprecated and will be removed in a future version.\n",
            "Instructions for updating:\n",
            "dim is deprecated, use axis instead\n",
            "W0411 07:40:57.108335 140598241474432 deprecation_wrapper.py:119] From /content/dog-breeds-classification/src/analysis/training_perf_analysis.py:16: The name tf.Session is deprecated. Please use tf.compat.v1.Session instead.\n",
            "\n",
            "2020-04-11 07:40:57.108798: I tensorflow/core/platform/cpu_feature_guard.cc:142] Your CPU supports instructions that this TensorFlow binary was not compiled to use: AVX2 FMA\n",
            "2020-04-11 07:40:57.112536: I tensorflow/core/platform/profile_utils/cpu_utils.cc:94] CPU Frequency: 2300000000 Hz\n",
            "2020-04-11 07:40:57.112775: I tensorflow/compiler/xla/service/service.cc:168] XLA service 0x55a8d67af2c0 executing computations on platform Host. Devices:\n",
            "2020-04-11 07:40:57.112807: I tensorflow/compiler/xla/service/service.cc:175]   StreamExecutor device (0): <undefined>, <undefined>\n",
            "W0411 07:40:57.128818 140598241474432 deprecation_wrapper.py:119] From src/data_preparation/dataset.py:23: The name tf.parse_single_example is deprecated. Please use tf.io.parse_single_example instead.\n",
            "\n",
            "W0411 07:40:57.129007 140598241474432 deprecation_wrapper.py:119] From src/data_preparation/dataset.py:26: The name tf.FixedLenFeature is deprecated. Please use tf.io.FixedLenFeature instead.\n",
            "\n",
            "W0411 07:40:57.139933 140598241474432 deprecation.py:323] From /content/dog-breeds-classification/src/analysis/training_perf_analysis.py:18: make_initializable_iterator (from tensorflow.python.data.ops.dataset_ops) is deprecated and will be removed in a future version.\n",
            "Instructions for updating:\n",
            "Use `for ... in dataset:` to iterate over a dataset. If using `tf.estimator`, return the `Dataset` object directly from your input function. As a last resort, you can use `tf.compat.v1.data.make_initializable_iterator(dataset)`.\n",
            "2020-04-11 07:40:57.158288: W tensorflow/compiler/jit/mark_for_compilation_pass.cc:1412] (One-time warning): Not using XLA:CPU for cluster because envvar TF_XLA_FLAGS=--tf_xla_cpu_global_jit was not set.  If you want XLA:CPU, either set that envvar, or use experimental_jit_scope to enable XLA:CPU.  To confirm that XLA is active, pass --vmodule=xla_compilation_cache=1 (as a proper command-line flag, not via TF_XLA_FLAGS) or set the envvar XLA_FLAGS=--xla_hlo_profile.\n",
            "W0411 07:40:57.165024 140598241474432 deprecation_wrapper.py:119] From /content/dog-breeds-classification/src/analysis/training_perf_analysis.py:21: The name tf.global_variables_initializer is deprecated. Please use tf.compat.v1.global_variables_initializer instead.\n",
            "\n",
            "W0411 07:40:57.376516 140598241474432 deprecation_wrapper.py:119] From /content/dog-breeds-classification/src/analysis/training_perf_analysis.py:23: The name tf.train.Saver is deprecated. Please use tf.compat.v1.train.Saver instead.\n",
            "\n",
            "W0411 07:40:57.385989 140598241474432 deprecation.py:323] From /usr/local/lib/python2.7/dist-packages/tensorflow/python/training/saver.py:1276: checkpoint_exists (from tensorflow.python.training.checkpoint_management) is deprecated and will be removed in a future version.\n",
            "Instructions for updating:\n",
            "Use standard file APIs to check for files with this prefix.\n",
            "End of the dataset\n",
            "          actual            pred\n",
            "0  silky_terrier  siberian_husky\n",
            "1  silky_terrier    afghan_hound\n",
            "2  silky_terrier  siberian_husky\n",
            "3  silky_terrier     maltese_dog\n",
            "4  silky_terrier        airedale\n",
            "5  silky_terrier    afghan_hound\n",
            "6  silky_terrier   silky_terrier\n",
            "7  silky_terrier          saluki\n",
            "8  silky_terrier          saluki\n",
            "9  silky_terrier    afghan_hound\n",
            "predictions saved to metrics/training_confusion.csv\n"
          ],
          "name": "stdout"
        }
      ]
    },
    {
      "cell_type": "markdown",
      "metadata": {
        "id": "LlyUaW2VQv5Q",
        "colab_type": "text"
      },
      "source": [
        ""
      ]
    }
  ]
}