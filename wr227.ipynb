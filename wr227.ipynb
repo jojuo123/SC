{
  "nbformat": 4,
  "nbformat_minor": 0,
  "metadata": {
    "colab": {
      "name": "wr227.ipynb",
      "provenance": [],
      "collapsed_sections": [],
      "authorship_tag": "ABX9TyNxi3YoSL3ofiUNFwfikL7U",
      "include_colab_link": true
    },
    "kernelspec": {
      "name": "python3",
      "display_name": "Python 3"
    }
  },
  "cells": [
    {
      "cell_type": "markdown",
      "metadata": {
        "id": "view-in-github",
        "colab_type": "text"
      },
      "source": [
        "<a href=\"https://colab.research.google.com/github/jojuo123/SC/blob/master/wr227.ipynb\" target=\"_parent\"><img src=\"https://colab.research.google.com/assets/colab-badge.svg\" alt=\"Open In Colab\"/></a>"
      ]
    },
    {
      "cell_type": "code",
      "metadata": {
        "id": "wiHtLQW7I8NU",
        "colab_type": "code",
        "outputId": "5c17f323-8f25-4a03-a070-cd47e0eb2b0a",
        "colab": {
          "base_uri": "https://localhost:8080/",
          "height": 68
        }
      },
      "source": [
        "from google_drive_downloader import GoogleDriveDownloader as gdd\n",
        "\n",
        "gdd.download_file_from_google_drive(file_id='1Ty04Qk5Od90CuFtcgdRth6wBF0Aao8Bi',\n",
        "                                    dest_path='./dog-breeds-classification/cc2.zip',\n",
        "                                    unzip=True,\n",
        "                                    showsize=True,\n",
        "                                    overwrite=True)"
      ],
      "execution_count": 0,
      "outputs": [
        {
          "output_type": "stream",
          "text": [
            "Downloading 1Ty04Qk5Od90CuFtcgdRth6wBF0Aao8Bi into ./dog-breeds-classification/cc2.zip... \n",
            "421.8 MiB Done.\n",
            "Unzipping...Done.\n"
          ],
          "name": "stdout"
        }
      ]
    },
    {
      "cell_type": "code",
      "metadata": {
        "id": "n5bXXcGfRTmv",
        "colab_type": "code",
        "outputId": "336629a8-7298-4d64-bd48-c33c34231a04",
        "colab": {
          "base_uri": "https://localhost:8080/",
          "height": 68
        }
      },
      "source": [
        "from google_drive_downloader import GoogleDriveDownloader as gdd\n",
        "\n",
        "gdd.download_file_from_google_drive(file_id='1PzCty61hHcvJT1a36t9fcjFajm4b598X',\n",
        "                                    dest_path='./dog-breeds-classification/data/cc2.zip',\n",
        "                                    unzip=True,\n",
        "                                    showsize=True,\n",
        "                                    overwrite=True)"
      ],
      "execution_count": 0,
      "outputs": [
        {
          "output_type": "stream",
          "text": [
            "Downloading 1psc5-W79zza0QLUVKhjqUYcAi4_VPlaV into ./dog-breeds-classification/data/cc2.zip... \n",
            "474.9 MiB Done.\n",
            "Unzipping...Done.\n"
          ],
          "name": "stdout"
        }
      ]
    },
    {
      "cell_type": "markdown",
      "metadata": {
        "id": "naYgO8sQKRW1",
        "colab_type": "text"
      },
      "source": [
        "trước khi train chỉnh sửa những phần sau: (trong folder src/common)\n",
        "1. dòng 17 (CURRENT_MODEL_NAME) trong consts.py thành tên model mong muốn (EX: CURRENT_MODEL_NAME = '70original')\n",
        "2. dòng 10 và 23 (TRAIN_TF_RECORDS và STANFORD_DS_TF_RECORDS) trong paths.py thành tên tfrecord dùng để train. EX: TRAIN_TF_RECORDS = os.path.join(DATA_ROOT, 'stanford70.tfrecords') và STANFORD_DS_TF_RECORDS = os.path.join(DATA_ROOT, 'stanford70.tfrecords')\n",
        "3. dòng 17 (TRAIN_CONFUSION) trong paths.py thành tên confusion file để test. EX: TRAIN_CONFUSION = os.path.join(METRICS_DIR, 'training_confusionoror.csv')\n",
        "4. dòng 22 (STANFORD_DS_DIR) trong paths.py thành tên folder chứa folder Images và Annotation. EX: STANFORD_DS_DIR = os.path.join(DATA_ROOT, '70')"
      ]
    },
    {
      "cell_type": "code",
      "metadata": {
        "id": "xtm0fEKHQcXL",
        "colab_type": "code",
        "colab": {}
      },
      "source": [
        "!pip2 install pyprind"
      ],
      "execution_count": 0,
      "outputs": []
    },
    {
      "cell_type": "code",
      "metadata": {
        "id": "nfWzOKDhJMY5",
        "colab_type": "code",
        "colab": {}
      },
      "source": [
        "!pip2 install tensorflow==1.14"
      ],
      "execution_count": 0,
      "outputs": []
    },
    {
      "cell_type": "code",
      "metadata": {
        "id": "DPd2_wGqIJTG",
        "colab_type": "code",
        "colab": {}
      },
      "source": [
        "%cd dog-breeds-classification/"
      ],
      "execution_count": 0,
      "outputs": []
    },
    {
      "cell_type": "code",
      "metadata": {
        "id": "79qPAA7mPErO",
        "colab_type": "code",
        "colab": {}
      },
      "source": [
        "!python2 -m src.training.train"
      ],
      "execution_count": 0,
      "outputs": []
    },
    {
      "cell_type": "markdown",
      "metadata": {
        "id": "xQHToWrvfIbJ",
        "colab_type": "text"
      },
      "source": [
        "Lưu ý khi freeze.\n",
        "Sau khi thực hiện freeze, trong folder frozen sẽ chứa 1 file tên (CURRENT_MODEL_NAME).pb\n",
        "file này chứa weigh của NN. download file này về sau khi freeze\n"
      ]
    },
    {
      "cell_type": "code",
      "metadata": {
        "id": "ulsvLrxafgKm",
        "colab_type": "code",
        "colab": {}
      },
      "source": [
        "!python2 -m src.freezing.freeze"
      ],
      "execution_count": 0,
      "outputs": []
    },
    {
      "cell_type": "markdown",
      "metadata": {
        "id": "lAcW5JV3fnXF",
        "colab_type": "text"
      },
      "source": [
        "Lưu ý trước khi analysis.\n",
        "1. tên file csv được xuất ra được quy định trong dòng 17 của file paths.py\n",
        "2. file csv sẽ được xuất ra trong folder metrics\n",
        "3. analysis sẽ dùng (CURRENT_MODEL_NAME).pb test trên file tfrecords được quy định ở dòng 10 trong paths.py\n",
        "--> EX: CURRENT_MODEL_NAME = '70Model' và TRAIN_TF_RECORDS = os.path.join(DATA_ROOT, 'stanford30.tfrecords') \n",
        "--> nghĩa là dùng model 70% test trên bộ dataset 30%."
      ]
    },
    {
      "cell_type": "code",
      "metadata": {
        "id": "azq6R7ISKJID",
        "colab_type": "code",
        "colab": {}
      },
      "source": [
        "!python2 -m src.analysis.training_perf_analysis"
      ],
      "execution_count": 0,
      "outputs": []
    },
    {
      "cell_type": "markdown",
      "metadata": {
        "id": "LlyUaW2VQv5Q",
        "colab_type": "text"
      },
      "source": [
        ""
      ]
    }
  ]
}